{
 "cells": [
  {
   "cell_type": "markdown",
   "metadata": {},
   "source": [
    "## Final Project Submission\n",
    "\n",
    "Please fill out:\n",
    "* Student name: Kimberly Humphrey\n",
    "* Student pace: Full Time\n",
    "* Scheduled project review date/time: \n",
    "* Instructor name: Amber Yandow\n",
    "* Blog post URL: \n"
   ]
  },
  {
   "cell_type": "markdown",
   "metadata": {},
   "source": [
    "Import necessary libraries"
   ]
  },
  {
   "cell_type": "code",
   "execution_count": 1,
   "metadata": {},
   "outputs": [
    {
     "name": "stderr",
     "output_type": "stream",
     "text": [
      "C:\\Anaconda3\\envs\\learn-env\\lib\\site-packages\\statsmodels\\tools\\_testing.py:19: FutureWarning: pandas.util.testing is deprecated. Use the functions in the public API at pandas.testing instead.\n",
      "  import pandas.util.testing as tm\n"
     ]
    }
   ],
   "source": [
    "import numpy as np\n",
    "import pandas as pd\n",
    "import matplotlib.pyplot as plt\n",
    "import seaborn as sb\n",
    "%matplotlib inline\n"
   ]
  },
  {
   "cell_type": "markdown",
   "metadata": {},
   "source": [
    "<b>Open datasets in pandas</b>"
   ]
  },
  {
   "cell_type": "code",
   "execution_count": 6,
   "metadata": {},
   "outputs": [],
   "source": [
    "#import data\n",
    "df1 = pd.read_csv('~/Downloads/Movie_Datasets/bom.movie_gross.csv')\n",
    "\n",
    "df3 = pd.read_csv('~/Downloads/Movie_Datasets/imdb.title.basics.csv')\n",
    "\n",
    "df6 = pd.read_csv('~/Downloads/Movie_Datasets/imdb.title.ratings.csv')\n",
    "\n",
    "df11 = pd.read_csv('~/Downloads/Movie_Datasets/tn.movie_budgets.csv')\n"
   ]
  },
  {
   "cell_type": "code",
   "execution_count": 7,
   "metadata": {},
   "outputs": [],
   "source": [
    "df11.rename(columns={'movie' : 'title'}, inplace = True) #rename column to merge on"
   ]
  },
  {
   "cell_type": "code",
   "execution_count": 8,
   "metadata": {},
   "outputs": [],
   "source": [
    "df3.rename(columns={'primary_title':'title'}, inplace = True) #rename column to merge on"
   ]
  },
  {
   "cell_type": "code",
   "execution_count": 9,
   "metadata": {},
   "outputs": [],
   "source": [
    "gross = pd.merge(df1, df11, on=['title']) #merge"
   ]
  },
  {
   "cell_type": "code",
   "execution_count": 10,
   "metadata": {},
   "outputs": [],
   "source": [
    "imdb = pd.merge(df3, df6, on=['tconst']) #merge"
   ]
  },
  {
   "cell_type": "code",
   "execution_count": 11,
   "metadata": {},
   "outputs": [],
   "source": [
    "movies = pd.merge(imdb, gross, on=['title']) #last merge to merge all 4 dfs"
   ]
  },
  {
   "cell_type": "code",
   "execution_count": 12,
   "metadata": {},
   "outputs": [],
   "source": [
    "movies.foreign_gross.fillna(0, inplace = True) #Fill null values in Foreign Gross assuming there was no worldwide release"
   ]
  },
  {
   "cell_type": "code",
   "execution_count": 13,
   "metadata": {},
   "outputs": [],
   "source": [
    "movies['foreign_gross'] = movies.foreign_gross.apply (pd.to_numeric, errors='coerce') #change values in the foreign gross column to an int"
   ]
  },
  {
   "cell_type": "code",
   "execution_count": 14,
   "metadata": {},
   "outputs": [],
   "source": [
    "movies = movies.dropna() #drop all other rows with a null value"
   ]
  },
  {
   "cell_type": "code",
   "execution_count": 15,
   "metadata": {},
   "outputs": [],
   "source": [
    "movies.drop_duplicates(subset =\"title\", keep = 'first', inplace = True)  #drop duplicates with the same title, keeping the first entry"
   ]
  },
  {
   "cell_type": "code",
   "execution_count": 16,
   "metadata": {},
   "outputs": [
    {
     "name": "stdout",
     "output_type": "stream",
     "text": [
      "        tconst        title original_title  start_year  runtime_minutes  \\\n",
      "803  tt1828325  The Gambler    The Gambler        2015            105.0   \n",
      "\n",
      "    genres  averagerating  numvotes studio  domestic_gross_x  foreign_gross  \\\n",
      "803  Drama            7.0        10   Par.        33700000.0      5600000.0   \n",
      "\n",
      "     year  id  release_date production_budget domestic_gross_y worldwide_gross  \n",
      "803  2014  25  Dec 10, 2014       $25,000,000      $33,680,992     $38,718,031  \n"
     ]
    }
   ],
   "source": [
    "print(movies[movies['title'] == 'The Gambler']) #checking to make sure my doubles were removed"
   ]
  },
  {
   "cell_type": "code",
   "execution_count": 17,
   "metadata": {},
   "outputs": [],
   "source": [
    "movies.loc[(movies.runtime_minutes <= 20),'runtime_minutes']=107 #changed movies listed as less than 20 minutes long to the average of 107"
   ]
  },
  {
   "cell_type": "code",
   "execution_count": 18,
   "metadata": {},
   "outputs": [],
   "source": [
    "movies.drop(['original_title'], axis=1, inplace=True) #The next 6 lines remove unwanted columns"
   ]
  },
  {
   "cell_type": "code",
   "execution_count": 19,
   "metadata": {},
   "outputs": [],
   "source": [
    "movies.drop(['tconst'], axis=1, inplace=True)"
   ]
  },
  {
   "cell_type": "code",
   "execution_count": 20,
   "metadata": {},
   "outputs": [],
   "source": [
    "movies.drop(['start_year'], axis=1, inplace=True)"
   ]
  },
  {
   "cell_type": "code",
   "execution_count": 21,
   "metadata": {},
   "outputs": [],
   "source": [
    "movies.drop(['domestic_gross_x'], axis=1, inplace=True)"
   ]
  },
  {
   "cell_type": "code",
   "execution_count": 22,
   "metadata": {},
   "outputs": [],
   "source": [
    "movies.drop(['year'], axis=1, inplace=True)"
   ]
  },
  {
   "cell_type": "code",
   "execution_count": 23,
   "metadata": {},
   "outputs": [],
   "source": [
    "movies.drop(['id'], axis=1, inplace=True)"
   ]
  },
  {
   "cell_type": "code",
   "execution_count": 24,
   "metadata": {},
   "outputs": [],
   "source": [
    "movies['release_date'] = pd.to_datetime(movies['release_date']) #Changing the date to a date type"
   ]
  },
  {
   "cell_type": "code",
   "execution_count": 25,
   "metadata": {},
   "outputs": [],
   "source": [
    "movies['release_month'] = movies['release_date'].dt.month_name() #Making a separate column for release month from release date."
   ]
  },
  {
   "cell_type": "code",
   "execution_count": 26,
   "metadata": {},
   "outputs": [],
   "source": [
    "movies['production_budget'] = movies['production_budget'].str.replace(',', '') #changing dtype to int from str\n",
    "movies['production_budget'] = movies['production_budget'].str.replace('$', '')\n",
    "movies['production_budget'] = movies['production_budget'].astype(int)"
   ]
  },
  {
   "cell_type": "code",
   "execution_count": 27,
   "metadata": {},
   "outputs": [],
   "source": [
    "movies['domestic_gross_y'] = movies['domestic_gross_y'].str.replace(',', '') #changing dtype to int from str\n",
    "movies['domestic_gross_y'] = movies['domestic_gross_y'].str.replace('$', '')\n",
    "movies['domestic_gross_y'] = movies['domestic_gross_y'].astype(int)"
   ]
  },
  {
   "cell_type": "code",
   "execution_count": 28,
   "metadata": {},
   "outputs": [],
   "source": [
    "movies['worldwide_gross'] = movies['worldwide_gross'].str.replace(',', '') #changing dtype to int from str\n",
    "movies['worldwide_gross'] = movies['worldwide_gross'].str.replace('$', '')\n",
    "movies['worldwide_gross'] = movies['worldwide_gross'].astype(int)"
   ]
  },
  {
   "cell_type": "code",
   "execution_count": 29,
   "metadata": {},
   "outputs": [],
   "source": [
    "movies['profit'] = movies['worldwide_gross'] - movies['production_budget'] #creating a profit column"
   ]
  },
  {
   "cell_type": "code",
   "execution_count": 30,
   "metadata": {},
   "outputs": [],
   "source": [
    "movies['ROI%'] = ((movies['profit'] - movies['production_budget']) / movies['production_budget']) * 100 #creating a ROI column"
   ]
  },
  {
   "cell_type": "code",
   "execution_count": 73,
   "metadata": {},
   "outputs": [],
   "source": [
    "movies['worldwide%'] = (movies['worldwide_gross'] - movies['domestic_gross_y']) / movies['worldwide_gross'] #creating percentage of revenue that was foreign"
   ]
  },
  {
   "cell_type": "code",
   "execution_count": 31,
   "metadata": {},
   "outputs": [],
   "source": [
    "movies = movies.dropna() #dropping null values again"
   ]
  },
  {
   "cell_type": "code",
   "execution_count": 77,
   "metadata": {},
   "outputs": [],
   "source": [
    "movies.to_csv('movies.csv') #saving df"
   ]
  },
  {
   "cell_type": "code",
   "execution_count": 78,
   "metadata": {},
   "outputs": [
    {
     "name": "stdout",
     "output_type": "stream",
     "text": [
      "<class 'pandas.core.frame.DataFrame'>\n",
      "Int64Index: 1150 entries, 0 to 1412\n",
      "Data columns (total 16 columns):\n",
      "tconst               1150 non-null object\n",
      "title                1150 non-null object\n",
      "runtime_minutes      1150 non-null float64\n",
      "genres               1150 non-null object\n",
      "averagerating        1150 non-null float64\n",
      "numvotes             1150 non-null int64\n",
      "studio               1150 non-null object\n",
      "foreign_gross        1150 non-null float64\n",
      "release_date         1150 non-null datetime64[ns]\n",
      "production_budget    1150 non-null int32\n",
      "domestic_gross_y     1150 non-null int32\n",
      "worldwide_gross      1150 non-null int32\n",
      "release_month        1150 non-null object\n",
      "profit               1150 non-null int32\n",
      "ROI%                 1150 non-null float64\n",
      "worldwide%           1150 non-null float64\n",
      "dtypes: datetime64[ns](1), float64(5), int32(4), int64(1), object(5)\n",
      "memory usage: 134.8+ KB\n"
     ]
    }
   ],
   "source": [
    "movies.info()"
   ]
  },
  {
   "cell_type": "code",
   "execution_count": 79,
   "metadata": {},
   "outputs": [
    {
     "data": {
      "text/html": [
       "<div>\n",
       "<style scoped>\n",
       "    .dataframe tbody tr th:only-of-type {\n",
       "        vertical-align: middle;\n",
       "    }\n",
       "\n",
       "    .dataframe tbody tr th {\n",
       "        vertical-align: top;\n",
       "    }\n",
       "\n",
       "    .dataframe thead th {\n",
       "        text-align: right;\n",
       "    }\n",
       "</style>\n",
       "<table border=\"1\" class=\"dataframe\">\n",
       "  <thead>\n",
       "    <tr style=\"text-align: right;\">\n",
       "      <th></th>\n",
       "      <th>tconst</th>\n",
       "      <th>title</th>\n",
       "      <th>runtime_minutes</th>\n",
       "      <th>genres</th>\n",
       "      <th>averagerating</th>\n",
       "      <th>numvotes</th>\n",
       "      <th>studio</th>\n",
       "      <th>foreign_gross</th>\n",
       "      <th>release_date</th>\n",
       "      <th>production_budget</th>\n",
       "      <th>domestic_gross_y</th>\n",
       "      <th>worldwide_gross</th>\n",
       "      <th>release_month</th>\n",
       "      <th>profit</th>\n",
       "      <th>ROI%</th>\n",
       "      <th>worldwide%</th>\n",
       "    </tr>\n",
       "  </thead>\n",
       "  <tbody>\n",
       "    <tr>\n",
       "      <th>0</th>\n",
       "      <td>tt0337692</td>\n",
       "      <td>On the Road</td>\n",
       "      <td>124.0</td>\n",
       "      <td>Adventure,Drama,Romance</td>\n",
       "      <td>6.1</td>\n",
       "      <td>37886</td>\n",
       "      <td>IFC</td>\n",
       "      <td>8000000.0</td>\n",
       "      <td>2013-03-22</td>\n",
       "      <td>25000000</td>\n",
       "      <td>720828</td>\n",
       "      <td>9313302</td>\n",
       "      <td>March</td>\n",
       "      <td>-15686698</td>\n",
       "      <td>-162.746792</td>\n",
       "      <td>0.922602</td>\n",
       "    </tr>\n",
       "    <tr>\n",
       "      <th>3</th>\n",
       "      <td>tt0359950</td>\n",
       "      <td>The Secret Life of Walter Mitty</td>\n",
       "      <td>114.0</td>\n",
       "      <td>Adventure,Comedy,Drama</td>\n",
       "      <td>7.3</td>\n",
       "      <td>275300</td>\n",
       "      <td>Fox</td>\n",
       "      <td>129900000.0</td>\n",
       "      <td>2013-12-25</td>\n",
       "      <td>91000000</td>\n",
       "      <td>58236838</td>\n",
       "      <td>187861183</td>\n",
       "      <td>December</td>\n",
       "      <td>96861183</td>\n",
       "      <td>6.440860</td>\n",
       "      <td>0.690001</td>\n",
       "    </tr>\n",
       "    <tr>\n",
       "      <th>4</th>\n",
       "      <td>tt0365907</td>\n",
       "      <td>A Walk Among the Tombstones</td>\n",
       "      <td>114.0</td>\n",
       "      <td>Action,Crime,Drama</td>\n",
       "      <td>6.5</td>\n",
       "      <td>105116</td>\n",
       "      <td>Uni.</td>\n",
       "      <td>26900000.0</td>\n",
       "      <td>2014-09-19</td>\n",
       "      <td>28000000</td>\n",
       "      <td>26017685</td>\n",
       "      <td>62108587</td>\n",
       "      <td>September</td>\n",
       "      <td>34108587</td>\n",
       "      <td>21.816382</td>\n",
       "      <td>0.581094</td>\n",
       "    </tr>\n",
       "    <tr>\n",
       "      <th>6</th>\n",
       "      <td>tt0376136</td>\n",
       "      <td>The Rum Diary</td>\n",
       "      <td>119.0</td>\n",
       "      <td>Comedy,Drama</td>\n",
       "      <td>6.2</td>\n",
       "      <td>94787</td>\n",
       "      <td>FD</td>\n",
       "      <td>10800000.0</td>\n",
       "      <td>2011-10-28</td>\n",
       "      <td>45000000</td>\n",
       "      <td>13109815</td>\n",
       "      <td>21544732</td>\n",
       "      <td>October</td>\n",
       "      <td>-23455268</td>\n",
       "      <td>-152.122818</td>\n",
       "      <td>0.391507</td>\n",
       "    </tr>\n",
       "    <tr>\n",
       "      <th>7</th>\n",
       "      <td>tt0383010</td>\n",
       "      <td>The Three Stooges</td>\n",
       "      <td>92.0</td>\n",
       "      <td>Comedy,Family</td>\n",
       "      <td>5.1</td>\n",
       "      <td>28570</td>\n",
       "      <td>Fox</td>\n",
       "      <td>10500000.0</td>\n",
       "      <td>2012-04-13</td>\n",
       "      <td>30000000</td>\n",
       "      <td>44338224</td>\n",
       "      <td>54052249</td>\n",
       "      <td>April</td>\n",
       "      <td>24052249</td>\n",
       "      <td>-19.825837</td>\n",
       "      <td>0.179715</td>\n",
       "    </tr>\n",
       "    <tr>\n",
       "      <th>8</th>\n",
       "      <td>tt0398286</td>\n",
       "      <td>Tangled</td>\n",
       "      <td>100.0</td>\n",
       "      <td>Adventure,Animation,Comedy</td>\n",
       "      <td>7.8</td>\n",
       "      <td>366366</td>\n",
       "      <td>BV</td>\n",
       "      <td>391000000.0</td>\n",
       "      <td>2010-11-24</td>\n",
       "      <td>260000000</td>\n",
       "      <td>200821936</td>\n",
       "      <td>586477240</td>\n",
       "      <td>November</td>\n",
       "      <td>326477240</td>\n",
       "      <td>25.568169</td>\n",
       "      <td>0.657579</td>\n",
       "    </tr>\n",
       "    <tr>\n",
       "      <th>9</th>\n",
       "      <td>tt0401729</td>\n",
       "      <td>John Carter</td>\n",
       "      <td>132.0</td>\n",
       "      <td>Action,Adventure,Sci-Fi</td>\n",
       "      <td>6.6</td>\n",
       "      <td>241792</td>\n",
       "      <td>BV</td>\n",
       "      <td>211100000.0</td>\n",
       "      <td>2012-03-09</td>\n",
       "      <td>275000000</td>\n",
       "      <td>73058679</td>\n",
       "      <td>282778100</td>\n",
       "      <td>March</td>\n",
       "      <td>7778100</td>\n",
       "      <td>-97.171600</td>\n",
       "      <td>0.741640</td>\n",
       "    </tr>\n",
       "    <tr>\n",
       "      <th>10</th>\n",
       "      <td>tt0427152</td>\n",
       "      <td>Dinner for Schmucks</td>\n",
       "      <td>114.0</td>\n",
       "      <td>Comedy</td>\n",
       "      <td>5.9</td>\n",
       "      <td>91546</td>\n",
       "      <td>P/DW</td>\n",
       "      <td>13800000.0</td>\n",
       "      <td>2010-07-30</td>\n",
       "      <td>69000000</td>\n",
       "      <td>73026337</td>\n",
       "      <td>86796502</td>\n",
       "      <td>July</td>\n",
       "      <td>17796502</td>\n",
       "      <td>-74.207968</td>\n",
       "      <td>0.158649</td>\n",
       "    </tr>\n",
       "    <tr>\n",
       "      <th>11</th>\n",
       "      <td>tt0429493</td>\n",
       "      <td>The A-Team</td>\n",
       "      <td>117.0</td>\n",
       "      <td>Action,Adventure,Thriller</td>\n",
       "      <td>6.8</td>\n",
       "      <td>235256</td>\n",
       "      <td>Fox</td>\n",
       "      <td>100000000.0</td>\n",
       "      <td>2010-06-11</td>\n",
       "      <td>110000000</td>\n",
       "      <td>77222099</td>\n",
       "      <td>177241171</td>\n",
       "      <td>June</td>\n",
       "      <td>67241171</td>\n",
       "      <td>-38.871663</td>\n",
       "      <td>0.564311</td>\n",
       "    </tr>\n",
       "    <tr>\n",
       "      <th>12</th>\n",
       "      <td>tt0431021</td>\n",
       "      <td>The Possession</td>\n",
       "      <td>92.0</td>\n",
       "      <td>Horror,Mystery,Thriller</td>\n",
       "      <td>5.9</td>\n",
       "      <td>53649</td>\n",
       "      <td>LGF</td>\n",
       "      <td>36300000.0</td>\n",
       "      <td>2012-08-31</td>\n",
       "      <td>14000000</td>\n",
       "      <td>49130588</td>\n",
       "      <td>82925064</td>\n",
       "      <td>August</td>\n",
       "      <td>68925064</td>\n",
       "      <td>392.321886</td>\n",
       "      <td>0.407530</td>\n",
       "    </tr>\n",
       "  </tbody>\n",
       "</table>\n",
       "</div>"
      ],
      "text/plain": [
       "       tconst                            title  runtime_minutes  \\\n",
       "0   tt0337692                      On the Road            124.0   \n",
       "3   tt0359950  The Secret Life of Walter Mitty            114.0   \n",
       "4   tt0365907      A Walk Among the Tombstones            114.0   \n",
       "6   tt0376136                    The Rum Diary            119.0   \n",
       "7   tt0383010                The Three Stooges             92.0   \n",
       "8   tt0398286                          Tangled            100.0   \n",
       "9   tt0401729                      John Carter            132.0   \n",
       "10  tt0427152              Dinner for Schmucks            114.0   \n",
       "11  tt0429493                       The A-Team            117.0   \n",
       "12  tt0431021                   The Possession             92.0   \n",
       "\n",
       "                        genres  averagerating  numvotes studio  foreign_gross  \\\n",
       "0      Adventure,Drama,Romance            6.1     37886    IFC      8000000.0   \n",
       "3       Adventure,Comedy,Drama            7.3    275300    Fox    129900000.0   \n",
       "4           Action,Crime,Drama            6.5    105116   Uni.     26900000.0   \n",
       "6                 Comedy,Drama            6.2     94787     FD     10800000.0   \n",
       "7                Comedy,Family            5.1     28570    Fox     10500000.0   \n",
       "8   Adventure,Animation,Comedy            7.8    366366     BV    391000000.0   \n",
       "9      Action,Adventure,Sci-Fi            6.6    241792     BV    211100000.0   \n",
       "10                      Comedy            5.9     91546   P/DW     13800000.0   \n",
       "11   Action,Adventure,Thriller            6.8    235256    Fox    100000000.0   \n",
       "12     Horror,Mystery,Thriller            5.9     53649    LGF     36300000.0   \n",
       "\n",
       "   release_date  production_budget  domestic_gross_y  worldwide_gross  \\\n",
       "0    2013-03-22           25000000            720828          9313302   \n",
       "3    2013-12-25           91000000          58236838        187861183   \n",
       "4    2014-09-19           28000000          26017685         62108587   \n",
       "6    2011-10-28           45000000          13109815         21544732   \n",
       "7    2012-04-13           30000000          44338224         54052249   \n",
       "8    2010-11-24          260000000         200821936        586477240   \n",
       "9    2012-03-09          275000000          73058679        282778100   \n",
       "10   2010-07-30           69000000          73026337         86796502   \n",
       "11   2010-06-11          110000000          77222099        177241171   \n",
       "12   2012-08-31           14000000          49130588         82925064   \n",
       "\n",
       "   release_month     profit        ROI%  worldwide%  \n",
       "0          March  -15686698 -162.746792    0.922602  \n",
       "3       December   96861183    6.440860    0.690001  \n",
       "4      September   34108587   21.816382    0.581094  \n",
       "6        October  -23455268 -152.122818    0.391507  \n",
       "7          April   24052249  -19.825837    0.179715  \n",
       "8       November  326477240   25.568169    0.657579  \n",
       "9          March    7778100  -97.171600    0.741640  \n",
       "10          July   17796502  -74.207968    0.158649  \n",
       "11          June   67241171  -38.871663    0.564311  \n",
       "12        August   68925064  392.321886    0.407530  "
      ]
     },
     "execution_count": 79,
     "metadata": {},
     "output_type": "execute_result"
    }
   ],
   "source": [
    "movies.head(10)"
   ]
  },
  {
   "cell_type": "code",
   "execution_count": null,
   "metadata": {},
   "outputs": [],
   "source": []
  }
 ],
 "metadata": {
  "kernelspec": {
   "display_name": "Python [conda env:learn-env] *",
   "language": "python",
   "name": "conda-env-learn-env-py"
  },
  "language_info": {
   "codemirror_mode": {
    "name": "ipython",
    "version": 3
   },
   "file_extension": ".py",
   "mimetype": "text/x-python",
   "name": "python",
   "nbconvert_exporter": "python",
   "pygments_lexer": "ipython3",
   "version": "3.6.9"
  }
 },
 "nbformat": 4,
 "nbformat_minor": 2
}
