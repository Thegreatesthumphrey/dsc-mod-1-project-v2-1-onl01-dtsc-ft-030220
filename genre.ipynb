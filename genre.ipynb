{
 "cells": [
  {
   "cell_type": "code",
   "execution_count": 16,
   "metadata": {},
   "outputs": [],
   "source": [
    "import numpy as np\n",
    "import pandas as pd\n",
    "import matplotlib.pyplot as plt\n",
    "import seaborn as sns\n",
    "sns.set()"
   ]
  },
  {
   "cell_type": "code",
   "execution_count": 17,
   "metadata": {},
   "outputs": [],
   "source": [
    "movies = pd.read_csv('movies.csv') #open df"
   ]
  },
  {
   "cell_type": "code",
   "execution_count": 18,
   "metadata": {},
   "outputs": [],
   "source": [
    "movies.genres = movies.genres.str.split(',') #split the str from column into list of elements"
   ]
  },
  {
   "cell_type": "code",
   "execution_count": 19,
   "metadata": {},
   "outputs": [
    {
     "data": {
      "text/html": [
       "<div>\n",
       "<style scoped>\n",
       "    .dataframe tbody tr th:only-of-type {\n",
       "        vertical-align: middle;\n",
       "    }\n",
       "\n",
       "    .dataframe tbody tr th {\n",
       "        vertical-align: top;\n",
       "    }\n",
       "\n",
       "    .dataframe thead th {\n",
       "        text-align: right;\n",
       "    }\n",
       "</style>\n",
       "<table border=\"1\" class=\"dataframe\">\n",
       "  <thead>\n",
       "    <tr style=\"text-align: right;\">\n",
       "      <th></th>\n",
       "      <th>Unnamed: 0</th>\n",
       "      <th>tconst</th>\n",
       "      <th>title</th>\n",
       "      <th>runtime_minutes</th>\n",
       "      <th>genres</th>\n",
       "      <th>averagerating</th>\n",
       "      <th>numvotes</th>\n",
       "      <th>studio</th>\n",
       "      <th>foreign_gross</th>\n",
       "      <th>release_date</th>\n",
       "      <th>production_budget</th>\n",
       "      <th>domestic_gross_y</th>\n",
       "      <th>worldwide_gross</th>\n",
       "      <th>release_month</th>\n",
       "      <th>profit</th>\n",
       "      <th>ROI%</th>\n",
       "      <th>worldwide%</th>\n",
       "    </tr>\n",
       "  </thead>\n",
       "  <tbody>\n",
       "    <tr>\n",
       "      <th>0</th>\n",
       "      <td>0</td>\n",
       "      <td>tt0337692</td>\n",
       "      <td>On the Road</td>\n",
       "      <td>124.0</td>\n",
       "      <td>Adventure</td>\n",
       "      <td>6.1</td>\n",
       "      <td>37886</td>\n",
       "      <td>IFC</td>\n",
       "      <td>8000000.0</td>\n",
       "      <td>2013-03-22</td>\n",
       "      <td>25000000</td>\n",
       "      <td>720828</td>\n",
       "      <td>9313302</td>\n",
       "      <td>March</td>\n",
       "      <td>-15686698</td>\n",
       "      <td>-162.746792</td>\n",
       "      <td>0.922602</td>\n",
       "    </tr>\n",
       "    <tr>\n",
       "      <th>0</th>\n",
       "      <td>0</td>\n",
       "      <td>tt0337692</td>\n",
       "      <td>On the Road</td>\n",
       "      <td>124.0</td>\n",
       "      <td>Drama</td>\n",
       "      <td>6.1</td>\n",
       "      <td>37886</td>\n",
       "      <td>IFC</td>\n",
       "      <td>8000000.0</td>\n",
       "      <td>2013-03-22</td>\n",
       "      <td>25000000</td>\n",
       "      <td>720828</td>\n",
       "      <td>9313302</td>\n",
       "      <td>March</td>\n",
       "      <td>-15686698</td>\n",
       "      <td>-162.746792</td>\n",
       "      <td>0.922602</td>\n",
       "    </tr>\n",
       "    <tr>\n",
       "      <th>0</th>\n",
       "      <td>0</td>\n",
       "      <td>tt0337692</td>\n",
       "      <td>On the Road</td>\n",
       "      <td>124.0</td>\n",
       "      <td>Romance</td>\n",
       "      <td>6.1</td>\n",
       "      <td>37886</td>\n",
       "      <td>IFC</td>\n",
       "      <td>8000000.0</td>\n",
       "      <td>2013-03-22</td>\n",
       "      <td>25000000</td>\n",
       "      <td>720828</td>\n",
       "      <td>9313302</td>\n",
       "      <td>March</td>\n",
       "      <td>-15686698</td>\n",
       "      <td>-162.746792</td>\n",
       "      <td>0.922602</td>\n",
       "    </tr>\n",
       "    <tr>\n",
       "      <th>1</th>\n",
       "      <td>3</td>\n",
       "      <td>tt0359950</td>\n",
       "      <td>The Secret Life of Walter Mitty</td>\n",
       "      <td>114.0</td>\n",
       "      <td>Adventure</td>\n",
       "      <td>7.3</td>\n",
       "      <td>275300</td>\n",
       "      <td>Fox</td>\n",
       "      <td>129900000.0</td>\n",
       "      <td>2013-12-25</td>\n",
       "      <td>91000000</td>\n",
       "      <td>58236838</td>\n",
       "      <td>187861183</td>\n",
       "      <td>December</td>\n",
       "      <td>96861183</td>\n",
       "      <td>6.440860</td>\n",
       "      <td>0.690001</td>\n",
       "    </tr>\n",
       "    <tr>\n",
       "      <th>1</th>\n",
       "      <td>3</td>\n",
       "      <td>tt0359950</td>\n",
       "      <td>The Secret Life of Walter Mitty</td>\n",
       "      <td>114.0</td>\n",
       "      <td>Comedy</td>\n",
       "      <td>7.3</td>\n",
       "      <td>275300</td>\n",
       "      <td>Fox</td>\n",
       "      <td>129900000.0</td>\n",
       "      <td>2013-12-25</td>\n",
       "      <td>91000000</td>\n",
       "      <td>58236838</td>\n",
       "      <td>187861183</td>\n",
       "      <td>December</td>\n",
       "      <td>96861183</td>\n",
       "      <td>6.440860</td>\n",
       "      <td>0.690001</td>\n",
       "    </tr>\n",
       "  </tbody>\n",
       "</table>\n",
       "</div>"
      ],
      "text/plain": [
       "   Unnamed: 0     tconst                            title  runtime_minutes  \\\n",
       "0           0  tt0337692                      On the Road            124.0   \n",
       "0           0  tt0337692                      On the Road            124.0   \n",
       "0           0  tt0337692                      On the Road            124.0   \n",
       "1           3  tt0359950  The Secret Life of Walter Mitty            114.0   \n",
       "1           3  tt0359950  The Secret Life of Walter Mitty            114.0   \n",
       "\n",
       "      genres  averagerating  numvotes studio  foreign_gross release_date  \\\n",
       "0  Adventure            6.1     37886    IFC      8000000.0   2013-03-22   \n",
       "0      Drama            6.1     37886    IFC      8000000.0   2013-03-22   \n",
       "0    Romance            6.1     37886    IFC      8000000.0   2013-03-22   \n",
       "1  Adventure            7.3    275300    Fox    129900000.0   2013-12-25   \n",
       "1     Comedy            7.3    275300    Fox    129900000.0   2013-12-25   \n",
       "\n",
       "   production_budget  domestic_gross_y  worldwide_gross release_month  \\\n",
       "0           25000000            720828          9313302         March   \n",
       "0           25000000            720828          9313302         March   \n",
       "0           25000000            720828          9313302         March   \n",
       "1           91000000          58236838        187861183      December   \n",
       "1           91000000          58236838        187861183      December   \n",
       "\n",
       "     profit        ROI%  worldwide%  \n",
       "0 -15686698 -162.746792    0.922602  \n",
       "0 -15686698 -162.746792    0.922602  \n",
       "0 -15686698 -162.746792    0.922602  \n",
       "1  96861183    6.440860    0.690001  \n",
       "1  96861183    6.440860    0.690001  "
      ]
     },
     "execution_count": 19,
     "metadata": {},
     "output_type": "execute_result"
    }
   ],
   "source": [
    "movies = movies.explode('genres')#split the list of genres into additional rows in df\n",
    "movies.head()"
   ]
  },
  {
   "cell_type": "code",
   "execution_count": 20,
   "metadata": {},
   "outputs": [],
   "source": [
    "movies.drop(['tconst'], axis=1, inplace=True) #drop unecessary column"
   ]
  },
  {
   "cell_type": "code",
   "execution_count": 21,
   "metadata": {},
   "outputs": [],
   "source": [
    "movies.drop(['Unnamed: 0'], axis=1, inplace=True) #drop unecessary column"
   ]
  },
  {
   "cell_type": "code",
   "execution_count": 22,
   "metadata": {},
   "outputs": [],
   "source": [
    "movies.drop(437, inplace=True) #removing first outlier"
   ]
  },
  {
   "cell_type": "code",
   "execution_count": 23,
   "metadata": {},
   "outputs": [],
   "source": [
    "movies.drop(805, inplace= True) #removing second outlier"
   ]
  },
  {
   "cell_type": "code",
   "execution_count": 24,
   "metadata": {},
   "outputs": [],
   "source": [
    "df = movies[['genres', 'ROI%']] #create new dataframe with the two columns 'genres' & 'ROI%' from the movies df"
   ]
  },
  {
   "cell_type": "code",
   "execution_count": 25,
   "metadata": {},
   "outputs": [],
   "source": [
    "df1 = df.groupby(['genres'])['ROI%'].mean() #group by genre with average ROI%"
   ]
  },
  {
   "cell_type": "code",
   "execution_count": 26,
   "metadata": {},
   "outputs": [
    {
     "data": {
      "image/png": "[encoded data removed]",
      "text/plain": [
       "<Figure size 864x432 with 1 Axes>"
      ]
     },
     "metadata": {},
     "output_type": "display_data"
    }
   ],
   "source": [
    "fig = df1.plot(kind = 'bar', figsize=(12,6)) #bar graph of genre vs. ROI%\n",
    "plt.title('ROI% by Genre',fontsize=24)\n",
    "plt.xlabel('Release Season',fontsize=15)\n",
    "plt.ylabel('ROI%',fontsize=15);"
   ]
  },
  {
   "cell_type": "markdown",
   "metadata": {},
   "source": [
    "<b> Horror, Mystery, and Thrillers average the highest ROI %.  Probably due to sufficient audience demand, and that they can still succeed while being low budget. </b>"
   ]
  },
  {
   "cell_type": "code",
   "execution_count": null,
   "metadata": {},
   "outputs": [],
   "source": []
  }
 ],
 "metadata": {
  "kernelspec": {
   "display_name": "Python [conda env:learn-env] *",
   "language": "python",
   "name": "conda-env-learn-env-py"
  },
  "language_info": {
   "codemirror_mode": {
    "name": "ipython",
    "version": 3
   },
   "file_extension": ".py",
   "mimetype": "text/x-python",
   "name": "python",
   "nbconvert_exporter": "python",
   "pygments_lexer": "ipython3",
   "version": "3.6.9"
  }
 },
 "nbformat": 4,
 "nbformat_minor": 2
}
