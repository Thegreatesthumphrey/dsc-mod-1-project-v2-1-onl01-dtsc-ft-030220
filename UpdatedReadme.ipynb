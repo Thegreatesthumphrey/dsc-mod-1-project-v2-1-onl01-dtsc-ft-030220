{
 "cells": [
  {
   "cell_type": "markdown",
   "metadata": {},
   "source": [
    "<h1> Movie Analysis for Microsoft </h1>"
   ]
  },
  {
   "cell_type": "markdown",
   "metadata": {},
   "source": [
    "<h2> Overview </h2>"
   ]
  },
  {
   "cell_type": "markdown",
   "metadata": {},
   "source": [
    "<p> -- Using data from over 1,000 random movies, we have identified trends from movies with a high return on investment.</p>\n",
    "<p> -- We chose ROI (Return on Investment) over actual profits, as a better indicator for companies that are newly breaking into the sector. \n",
    "Newly starting companies generally begin with a lower budget and rely on ROI to build a solid foundation and to afford maximum reinvest. </p>\n"
   ]
  },
  {
   "cell_type": "markdown",
   "metadata": {},
   "source": [
    "<h2> Cleaning the data (merging_dataframes.ipynb) </h2>"
   ]
  },
  {
   "cell_type": "markdown",
   "metadata": {},
   "source": [
    "<h2> The Three Areas of Analysis </h2>"
   ]
  },
  {
   "cell_type": "markdown",
   "metadata": {},
   "source": [
    "<p><ul><li>Runtime<li>Genre<li>Month of Release</ul><p>"
   ]
  },
  {
   "cell_type": "markdown",
   "metadata": {},
   "source": [
    "<h2> Runtime (runtime.ipynb)</h2>"
   ]
  },
  {
   "cell_type": "markdown",
   "metadata": {},
   "source": [
    "<p>Movies that fall into a certain range of runtimes are more likely to result in a sale. <br/>\n",
    "When they run outside of these times, consumers may be more hesitant to watch.<p>"
   ]
  },
  {
   "cell_type": "markdown",
   "metadata": {},
   "source": [
    "<p> According to our data analysis, it shows that movies with runtimes of <b>80-140</b> minutes are most profitable</p>\n",
    "<img src=\"Visuals/Runtime.png\"/>\n",
    "<p> Notice it does not guarantee a profitable movie, but it does lower the chance of it not being profitable.</p>\n"
   ]
  },
  {
   "cell_type": "markdown",
   "metadata": {},
   "source": [
    "<h2> Genre (genre.ipynb)</h2>"
   ]
  },
  {
   "cell_type": "markdown",
   "metadata": {},
   "source": [
    "<p>Genres describe the movie and what the type of story the consume will be watching.<br/>\n",
    "There are many genres and more than one can be used to describe a production.</p>"
   ]
  },
  {
   "cell_type": "markdown",
   "metadata": {},
   "source": [
    "<p> The top genres for return on investment are <b>Horror, Thriller, and Mystery</b> </p>\n",
    "<p> The worst genres are Western, and War</p>\n",
    "<img src=\"Visuals/Genres.png\"/>\n"
   ]
  },
  {
   "cell_type": "markdown",
   "metadata": {},
   "source": [
    "<h2> Month of Release (season.ipynb)</h2>"
   ]
  },
  {
   "cell_type": "markdown",
   "metadata": {},
   "source": [
    "<p>Month of release is a factor of season, holidays, weather, and culture and a consumer’s likelihood of watching a movie during that time frame.</p> \n"
   ]
  },
  {
   "cell_type": "markdown",
   "metadata": {},
   "source": [
    "<p> <b> July and October </b> show the highest return on investment. </p>\n",
    "<p> <b> March and September</b> have an extremely low ROI </p>\n",
    "<img src=\"Visuals/releaseMonthROI.png\"/>\n"
   ]
  },
  {
   "cell_type": "markdown",
   "metadata": {},
   "source": [
    "<p>The competition of these months is as follows</p>\n",
    "<img src=\"Visuals/releaseMonthCount.png\"/>\n",
    "<p> <b>October, November, and December</b> have the highest number of average releases </p>\n",
    "<p> <b>January, February, and May</b> have the least number of average releases</p>"
   ]
  },
  {
   "cell_type": "markdown",
   "metadata": {},
   "source": [
    "<p> <b> *A high rate of return along with low competition is a great combination for a company looking to break into this area.*</b></p>"
   ]
  },
  {
   "cell_type": "markdown",
   "metadata": {},
   "source": [
    "<h2> Summary of Findings </h2>"
   ]
  },
  {
   "cell_type": "markdown",
   "metadata": {},
   "source": [
    "<h4>Runtime - </h4> <p>Between 80-140 minutes</p>"
   ]
  },
  {
   "cell_type": "markdown",
   "metadata": {},
   "source": [
    "<h4>Genres - </h4> \n",
    "<p>Horror, Thriller, Mystery</p>\n",
    "<p> Avoid Western and War</p>"
   ]
  },
  {
   "cell_type": "markdown",
   "metadata": {},
   "source": [
    "<h4>Release Months -</h4>\n",
    "<p>July and October</p>\n",
    "<p>Avoid March and September</p>"
   ]
  },
  {
   "cell_type": "markdown",
   "metadata": {},
   "source": [
    "<h2> Suggestions </h2>"
   ]
  },
  {
   "cell_type": "markdown",
   "metadata": {},
   "source": [
    "<ul>\n",
    "    <li> Stay in between the recommended runtimes, aiming mostly for the middle of the two.</li>\n",
    "    <li> Create a movie with a combination of the top three genres, so it hits on all three, which will appear inticing to a broader range of consumers.</li>\n",
    "    <li> Do not release a movie in March or September. It has both very low ROI and higher competition. </li>\n",
    "    <li> If you are looking to start with a lower budget, I recommend releasing a title in January which has a high ROI and low competition.  </li>\n",
    "    <li> If you intend to make any combination of horror and are starting with a large budget, schedule the theater release of this movie in October (as you will be more competitive).</li>\n",
    "</ul>"
   ]
  },
  {
   "cell_type": "markdown",
   "metadata": {},
   "source": [
    "<h2> Non-Technical Presentation File (ConsultingPresentation.pdf) </h2>"
   ]
  },
  {
   "cell_type": "code",
   "execution_count": null,
   "metadata": {},
   "outputs": [],
   "source": []
  }
 ],
 "metadata": {
  "kernelspec": {
   "display_name": "Python [conda env:learn-env] *",
   "language": "python",
   "name": "conda-env-learn-env-py"
  },
  "language_info": {
   "codemirror_mode": {
    "name": "ipython",
    "version": 3
   },
   "file_extension": ".py",
   "mimetype": "text/x-python",
   "name": "python",
   "nbconvert_exporter": "python",
   "pygments_lexer": "ipython3",
   "version": "3.6.9"
  }
 },
 "nbformat": 4,
 "nbformat_minor": 2
}
